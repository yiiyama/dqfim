{
 "cells": [
  {
   "cell_type": "markdown",
   "metadata": {},
   "source": [
    "# Tracing the results of Haug and Kim (PRL 133, 050603)"
   ]
  },
  {
   "cell_type": "code",
   "execution_count": null,
   "metadata": {},
   "outputs": [],
   "source": [
    "import os\n",
    "# os.environ['CUDA_VISIBLE_DEVICES'] = '1'\n",
    "import numpy as np\n",
    "import scipy\n",
    "import jax\n",
    "import jax.numpy as jnp\n",
    "import qujax"
   ]
  },
  {
   "cell_type": "code",
   "execution_count": null,
   "metadata": {},
   "outputs": [],
   "source": [
    "jax.config.update('jax_enable_x64', True)"
   ]
  },
  {
   "cell_type": "markdown",
   "metadata": {},
   "source": [
    "## DQFIM of hardware-efficient ansatz with Haar-random training states\n",
    "\n",
    "The goal of this exercise is to reproduce the blue lines of Figure 2(a). We will construct the HE\n",
    "ansatz unitary as a function of the Ry and Rz gate parameters using qujax, and directly compute\n",
    "the DQFIM matrix Q_nm of Equation (4) using Haar-random input states for rho_L."
   ]
  },
  {
   "cell_type": "code",
   "execution_count": null,
   "metadata": {},
   "outputs": [],
   "source": [
    "def he_ansatz_args(num_qubits, num_layers):\n",
    "    \"\"\"Return the HE ansatz circuit as a (gates, qubit indices, params indices) argument to qujax\"\"\"\n",
    "    if num_qubits % 2:\n",
    "        raise ValueError('HE ansatz is only defined for even Nq')\n",
    "\n",
    "    params_per_layer = 2 * num_qubits\n",
    "    gates = (['Ry'] * num_qubits + ['Rz'] * num_qubits + ['CX'] * num_qubits) * num_layers\n",
    "    layer_qubit_inds = [[iq] for iq in range(num_qubits)] * 2\n",
    "    layer_qubit_inds += [[iq, (iq + 1) % num_qubits] for iq in range(0, num_qubits, 2)]\n",
    "    layer_qubit_inds += [[iq, (iq + 1) % num_qubits] for iq in range(1, num_qubits, 2)]\n",
    "    qubit_inds = layer_qubit_inds * num_layers\n",
    "    params_inds = sum(\n",
    "        ([[il * params_per_layer + iq] for iq in range(num_qubits)]\n",
    "         + [[il * params_per_layer + num_qubits + iq] for iq in range(num_qubits)]\n",
    "         + [[]] * num_qubits\n",
    "         for il in range(num_layers)),\n",
    "        []\n",
    "    )\n",
    "    return gates, qubit_inds, params_inds\n",
    "    "
   ]
  },
  {
   "cell_type": "code",
   "execution_count": null,
   "metadata": {},
   "outputs": [],
   "source": [
    "num_qubits = 4\n",
    "num_layers = 6\n",
    "# Make sure we have the intended circuit\n",
    "qujax.print_circuit(*he_ansatz_args(num_qubits, num_layers))\n",
    "# Make a function that returns the unitary matrix from the parameter values\n",
    "unitary = qujax.get_params_to_unitarytensor_func(*he_ansatz_args(num_qubits, num_layers))\n",
    "# Make a function that returns the derivative of the unitary matrix from the parameter values\n",
    "d_unitary = jax.jacfwd(unitary, holomorphic=True)"
   ]
  },
  {
   "cell_type": "code",
   "execution_count": null,
   "metadata": {},
   "outputs": [],
   "source": [
    "rng = np.random.default_rng()\n",
    "\n",
    "def dqfim(params, rho):\n",
    "    \"\"\"Compute Q_nm for given theta and rho.\"\"\"\n",
    "    u = unitary(params).reshape(2 ** num_qubits, 2 ** num_qubits)\n",
    "    du = d_unitary(params).reshape(2 ** num_qubits, 2 ** num_qubits, -1)\n",
    "    qmat = jnp.einsum('ijn,jk,ikm->nm', du, rho, du.conjugate())\n",
    "    qmat -= (jnp.einsum('ijn,jk,ik', du, rho, u.conjugate())\n",
    "             * jnp.einsum('ij,jk,ikm', u, rho, du.conjugate()))\n",
    "    qmat = 4. * qmat.real\n",
    "    return qmat\n",
    "\n",
    "def dqfim_rank(params, rho):\n",
    "    \"\"\"Compute the rank of Q_nm.\"\"\"\n",
    "    return jnp.linalg.matrix_rank(dqfim(params, rho))\n",
    "\n",
    "# Vectorize the rank calculation to obtain the mean rank under many random theta values\n",
    "v_dqfim_rank = jax.vmap(dqfim_rank, in_axes=(0, None))\n",
    "\n",
    "def dqfim_rank_mean(rho, num_pset=10):\n",
    "    \"\"\"Compute the mean rank of DQFIM obtained with multiple parameter value sets.\"\"\"\n",
    "    # Qujax expects gate parameters to be in [0, 2] -> multiply the output of random() by 2\n",
    "    # Input to dqfim must be of complex dtype, so we add 0.j\n",
    "    params_set = 2. * rng.random((num_pset, num_qubits * 2 * num_layers)) + 0.j\n",
    "    return np.mean(np.asarray(v_dqfim_rank(params_set, rho)))"
   ]
  },
  {
   "cell_type": "code",
   "execution_count": null,
   "metadata": {},
   "outputs": [],
   "source": [
    "num_samples = 1\n",
    "hdim = 2 ** num_qubits\n",
    "rand_uni = scipy.stats.unitary_group.rvs(hdim, size=num_samples).reshape((num_samples, hdim, hdim))\n",
    "states = rand_uni[:, :, 0]\n",
    "rho = np.einsum('li,lj->ij', states, states.conjugate()) / num_samples\n",
    "dqfim_rank_mean(rho)"
   ]
  },
  {
   "cell_type": "code",
   "execution_count": null,
   "metadata": {},
   "outputs": [],
   "source": []
  }
 ],
 "metadata": {
  "kernelspec": {
   "display_name": "Python 3 (ipykernel)",
   "language": "python",
   "name": "python3"
  },
  "language_info": {
   "codemirror_mode": {
    "name": "ipython",
    "version": 3
   },
   "file_extension": ".py",
   "mimetype": "text/x-python",
   "name": "python",
   "nbconvert_exporter": "python",
   "pygments_lexer": "ipython3",
   "version": "3.10.12"
  }
 },
 "nbformat": 4,
 "nbformat_minor": 2
}
